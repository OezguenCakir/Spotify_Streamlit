{
 "cells": [
  {
   "cell_type": "code",
   "execution_count": null,
   "metadata": {},
   "outputs": [],
   "source": [
    "for x in range(1,4):\n",
    "    st.subheader(str(x) + '. ' + df['Name'][x])\n",
    "    img = Image.open(urlopen(pic_of_artist(df['Name'][x])))\n",
    "    st.image( resize_image(image= img, length= 10000), width=100 )\n",
    "\n",
    "    st.write('**Popularität des Künstlers**')\n",
    "    st.progress(int(df['Popularität'][df.Name == df['Name'][x]].values[0]))\n",
    "\n",
    "    st.write('**Aktuell beliebteste Lieder**')\n",
    "    results_artist_top_tracks = sp.artist_top_tracks(df['uri'][df.Name == df['Name'][x]].values[0])\n",
    "    for x in range(1,6):\n",
    "        track = results_artist_top_tracks['tracks'][x-1]\n",
    "        col1, col2 = st.columns([3,1])\n",
    "        col1.write(str(x) + '. ' + track['name'])\n",
    "        col2.image(track['album']['images'][0]['url'], width=30)\n",
    "        #col3.audio( track['preview_url'], format=\"audio/wav\" )"
   ]
  }
 ],
 "metadata": {
  "kernelspec": {
   "display_name": "base",
   "language": "python",
   "name": "python3"
  },
  "language_info": {
   "name": "python",
   "version": "3.8.5 (default, Sep  4 2020, 02:22:02) \n[Clang 10.0.0 ]"
  },
  "orig_nbformat": 4,
  "vscode": {
   "interpreter": {
    "hash": "af592ee784abd8a1fff9aec8d3cfa28cdc80b56506d9c4f278ade371da057c8d"
   }
  }
 },
 "nbformat": 4,
 "nbformat_minor": 2
}
